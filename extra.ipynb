{
  "nbformat": 4,
  "nbformat_minor": 0,
  "metadata": {
    "colab": {
      "name": "Untitled3.ipynb",
      "provenance": [],
      "include_colab_link": true
    },
    "kernelspec": {
      "name": "python3",
      "display_name": "Python 3"
    },
    "accelerator": "GPU"
  },
  "cells": [
    {
      "cell_type": "markdown",
      "metadata": {
        "id": "view-in-github",
        "colab_type": "text"
      },
      "source": [
        "<a href=\"https://colab.research.google.com/github/yannidd/ai-society-lstm-lecture/blob/master/extra.ipynb\" target=\"_parent\"><img src=\"https://colab.research.google.com/assets/colab-badge.svg\" alt=\"Open In Colab\"/></a>"
      ]
    },
    {
      "cell_type": "markdown",
      "metadata": {
        "id": "hikjjnIeFGFj",
        "colab_type": "text"
      },
      "source": [
        "## Set up libraries"
      ]
    },
    {
      "cell_type": "code",
      "metadata": {
        "id": "5BmH_o5LFCHy",
        "colab_type": "code",
        "outputId": "310b4bae-a907-48d4-f2df-72a3ebbb52f4",
        "colab": {
          "base_uri": "https://localhost:8080/",
          "height": 35
        }
      },
      "source": [
        "# Select TensorFlow 2.\n",
        "try:\n",
        "  # %tensorflow_version only exists in Colab.\n",
        "  %tensorflow_version 2.x\n",
        "except Exception:\n",
        "  pass\n",
        "\n",
        "%matplotlib inline"
      ],
      "execution_count": 1,
      "outputs": [
        {
          "output_type": "stream",
          "text": [
            "TensorFlow 2.x selected.\n"
          ],
          "name": "stdout"
        }
      ]
    },
    {
      "cell_type": "code",
      "metadata": {
        "id": "92PpoI_3FQmd",
        "colab_type": "code",
        "colab": {}
      },
      "source": [
        "import matplotlib\n",
        "import matplotlib.pyplot as plt\n",
        "import numpy as np\n",
        "import tensorflow as tf\n",
        "import pickle\n",
        "\n",
        "from urllib.request import urlretrieve\n",
        "from sklearn.model_selection import train_test_split\n",
        "from tensorflow.keras import regularizers\n",
        "from tensorflow.keras.utils import to_categorical\n",
        "from tensorflow.keras.models import Sequential\n",
        "from tensorflow.keras.layers import Dense, LSTM, Masking\n",
        "from tensorflow.keras.preprocessing.sequence import pad_sequences"
      ],
      "execution_count": 0,
      "outputs": []
    },
    {
      "cell_type": "code",
      "metadata": {
        "id": "cySftbtnFTyk",
        "colab_type": "code",
        "colab": {}
      },
      "source": [
        "# Increase matplotlib font size.\n",
        "font = {'size': 14}\n",
        "matplotlib.rc('font', **font)"
      ],
      "execution_count": 0,
      "outputs": []
    },
    {
      "cell_type": "markdown",
      "metadata": {
        "id": "0GI9AMPlGgjL",
        "colab_type": "text"
      },
      "source": [
        "## Data"
      ]
    },
    {
      "cell_type": "markdown",
      "metadata": {
        "id": "SnuhSDnLG1NJ",
        "colab_type": "text"
      },
      "source": [
        "### Load"
      ]
    },
    {
      "cell_type": "code",
      "metadata": {
        "id": "B5xD4aD-FWcQ",
        "colab_type": "code",
        "outputId": "5da44bfa-5cf7-4343-d44a-7d0411662f8e",
        "colab": {
          "base_uri": "https://localhost:8080/",
          "height": 54
        }
      },
      "source": [
        "url = 'https://raw.githubusercontent.com/yannidd/ai-society-lstm-lecture/master/data_extra.pkl'\n",
        "filename = 'data_extra.pkl'\n",
        "urlretrieve (url, filename)\n",
        "\n",
        "with open(filename, 'rb') as file:\n",
        "    x, y = pickle.load(file)\n",
        "\n",
        "print(f'x length: {len(x)}\\n'\n",
        "      f'y length: {len(y)}')"
      ],
      "execution_count": 4,
      "outputs": [
        {
          "output_type": "stream",
          "text": [
            "x length: 1103\n",
            "y length: 1103\n"
          ],
          "name": "stdout"
        }
      ]
    },
    {
      "cell_type": "code",
      "metadata": {
        "id": "Tdo4FfDpaT2d",
        "colab_type": "code",
        "colab": {
          "base_uri": "https://localhost:8080/",
          "height": 72
        },
        "outputId": "5bd57a28-778a-4388-a9e2-7e40fef06556"
      },
      "source": [
        "accel_data = np.genfromtxt('https://raw.githubusercontent.com/yannidd/ai-society-lstm-lecture/master/data.csv', delimiter=',')\n",
        "print(f'Acceleration data shape: {accel_data.shape}.\\n'\n",
        "      f'First 3 columns are acceleration data (x, y, z).\\n'\n",
        "      f'Last column is the label.')"
      ],
      "execution_count": 5,
      "outputs": [
        {
          "output_type": "stream",
          "text": [
            "Acceleration data shape: (107362, 4).\n",
            "First 3 columns are acceleration data (x, y, z).\n",
            "Last column is the label.\n"
          ],
          "name": "stdout"
        }
      ]
    },
    {
      "cell_type": "markdown",
      "metadata": {
        "id": "vK39J4LaGjw6",
        "colab_type": "text"
      },
      "source": [
        "### Visualise"
      ]
    },
    {
      "cell_type": "markdown",
      "metadata": {
        "id": "4NJuaJsIHAnK",
        "colab_type": "text"
      },
      "source": [
        "### Prepare for training"
      ]
    },
    {
      "cell_type": "code",
      "metadata": {
        "id": "gNIU0RIJHDB-",
        "colab_type": "code",
        "outputId": "549c0ccf-bf8c-4d73-fce0-2c2637feb078",
        "colab": {
          "base_uri": "https://localhost:8080/",
          "height": 54
        }
      },
      "source": [
        "x_new = pad_sequences(x, padding='pre', truncating='pre', dtype='float32', \n",
        "                      value=0.0)\n",
        "y_new = to_categorical(y, num_classes=2, dtype='float32')\n",
        "x_predict = accel_data[:, :3][:, np.newaxis, :]\n",
        "y_predict = to_categorical(accel_data[:, 3], num_classes=2, dtype='float32')\n",
        "\n",
        "print(f'x shape: {x_new.shape}\\n'\n",
        "      f'y shape: {y_new.shape}')"
      ],
      "execution_count": 6,
      "outputs": [
        {
          "output_type": "stream",
          "text": [
            "x shape: (1103, 125, 3)\n",
            "y shape: (1103, 2)\n"
          ],
          "name": "stdout"
        }
      ]
    },
    {
      "cell_type": "code",
      "metadata": {
        "id": "_oUDtT4CHkQJ",
        "colab_type": "code",
        "outputId": "ef0a8915-6ef6-45bd-874a-6edf49cb019d",
        "colab": {
          "base_uri": "https://localhost:8080/",
          "height": 90
        }
      },
      "source": [
        "x_train, x_test, y_train, y_test = train_test_split(x_new, y_new, test_size=0.3, shuffle=False)\n",
        "\n",
        "print(f'x_train shape: {x_train.shape}\\n'\n",
        "      f'x_test shape:  {x_test.shape}\\n'\n",
        "      f'y_train shape: {y_train.shape}\\n'\n",
        "      f'y_test shape:  {y_test.shape}')"
      ],
      "execution_count": 7,
      "outputs": [
        {
          "output_type": "stream",
          "text": [
            "x_train shape: (772, 125, 3)\n",
            "x_test shape:  (331, 125, 3)\n",
            "y_train shape: (772, 2)\n",
            "y_test shape:  (331, 2)\n"
          ],
          "name": "stdout"
        }
      ]
    },
    {
      "cell_type": "markdown",
      "metadata": {
        "id": "0_CaiexrH0X8",
        "colab_type": "text"
      },
      "source": [
        "## TensorFlow model"
      ]
    },
    {
      "cell_type": "code",
      "metadata": {
        "id": "jwI1_d7BH4Jc",
        "colab_type": "code",
        "colab": {}
      },
      "source": [
        "def make_model(name, stateful: bool=False):\n",
        "  model = Sequential(name=name)\n",
        "\n",
        "  model.add(Masking(\n",
        "    mask_value=0.0,\n",
        "    input_shape=(None, 3),\n",
        "    batch_input_shape=(1 if stateful else None, None, 3),\n",
        "  ))\n",
        "\n",
        "  model.add(LSTM(\n",
        "    64,\n",
        "    activation='tanh', \n",
        "    # input_shape=(None, 3), \n",
        "    unit_forget_bias=True, \n",
        "    return_sequences=True,\n",
        "    stateful=stateful\n",
        "    ))\n",
        "\n",
        "  model.add(LSTM(\n",
        "    32, \n",
        "    activation='tanh', \n",
        "    unit_forget_bias=True,\n",
        "    stateful=stateful\n",
        "    ))\n",
        "\n",
        "  model.add(Dense(\n",
        "    16, \n",
        "    activation='relu'\n",
        "    ))\n",
        "  model.add(Dense(\n",
        "    2, \n",
        "    activation='softmax', \n",
        "    name='output_layer'\n",
        "    ))\n",
        "\n",
        "  for layer in model.layers:\n",
        "    layer.regularizers = regularizers.l2(l=0.0015)\n",
        "\n",
        "  return model"
      ],
      "execution_count": 0,
      "outputs": []
    },
    {
      "cell_type": "markdown",
      "metadata": {
        "id": "PAwPZGnoLcTE",
        "colab_type": "text"
      },
      "source": [
        "### Fitting"
      ]
    },
    {
      "cell_type": "code",
      "metadata": {
        "id": "0Z1sEjAlJQdj",
        "colab_type": "code",
        "outputId": "a840dbb1-3bfe-4175-a268-db279b5d6b7c",
        "colab": {
          "base_uri": "https://localhost:8080/",
          "height": 345
        }
      },
      "source": [
        "training_model = make_model('training_model', stateful=True)\n",
        "training_model.compile(loss = 'categorical_crossentropy',\n",
        "                       optimizer = 'adam',\n",
        "                       metrics = ['accuracy'])\n",
        "training_model.summary()"
      ],
      "execution_count": 9,
      "outputs": [
        {
          "output_type": "stream",
          "text": [
            "Model: \"training_model\"\n",
            "_________________________________________________________________\n",
            "Layer (type)                 Output Shape              Param #   \n",
            "=================================================================\n",
            "masking (Masking)            (1, None, 3)              0         \n",
            "_________________________________________________________________\n",
            "lstm (LSTM)                  (1, None, 64)             17408     \n",
            "_________________________________________________________________\n",
            "lstm_1 (LSTM)                (1, 32)                   12416     \n",
            "_________________________________________________________________\n",
            "dense (Dense)                (1, 16)                   528       \n",
            "_________________________________________________________________\n",
            "output_layer (Dense)         (1, 2)                    34        \n",
            "=================================================================\n",
            "Total params: 30,386\n",
            "Trainable params: 30,386\n",
            "Non-trainable params: 0\n",
            "_________________________________________________________________\n"
          ],
          "name": "stdout"
        }
      ]
    },
    {
      "cell_type": "code",
      "metadata": {
        "id": "idyokbMFJimY",
        "colab_type": "code",
        "colab": {
          "base_uri": "https://localhost:8080/",
          "height": 54
        },
        "outputId": "30936e9a-fb0a-439c-c8c2-300d8cb6406a"
      },
      "source": [
        "batch_size = 1 #@param {type:\"integer\"}\n",
        "epochs = 1 #@param {type:\"integer\"}\n",
        "\n",
        "history = training_model.fit(x=x_train, \n",
        "                             y=y_train,                             \n",
        "                             epochs=epochs,\n",
        "                             validation_data=(x_test, y_test),\n",
        "                             batch_size=batch_size)"
      ],
      "execution_count": 10,
      "outputs": [
        {
          "output_type": "stream",
          "text": [
            "Train on 772 samples, validate on 331 samples\n",
            "772/772 [==============================] - 192s 249ms/sample - loss: 0.4153 - accuracy: 0.7863 - val_loss: 0.0307 - val_accuracy: 0.9940\n"
          ],
          "name": "stdout"
        }
      ]
    },
    {
      "cell_type": "code",
      "metadata": {
        "id": "OpQ_Ed9uVeUd",
        "colab_type": "code",
        "colab": {}
      },
      "source": [
        "fig = plt.figure(figsize=(12, 4))\n",
        "ax0 = plt.subplot2grid((1, 2), (0, 0), 1, 1)\n",
        "ax1 = plt.subplot2grid((1, 2), (0, 1), 1, 1)\n",
        "\n",
        "# Plot training & validation accuracy values\n",
        "ax0.plot(history.history['accuracy'], 'r')\n",
        "ax0.plot(history.history['val_accuracy'], 'b')\n",
        "ax0.set_title('model accuracy')\n",
        "ax0.set_ylabel('accuracy')\n",
        "ax0.set_xlabel('epoch')\n",
        "ax0.legend(['train', 'test'], loc='upper left')\n",
        "\n",
        "# Plot training & validation loss values\n",
        "ax1.plot(history.history['loss'], 'r')\n",
        "ax1.plot(history.history['val_loss'], 'b')\n",
        "ax1.set_title('model loss')\n",
        "ax1.set_ylabel('loss')\n",
        "ax1.set_xlabel('epoch')\n",
        "ax1.legend(['train', 'test'], loc='upper left')\n",
        "\n",
        "plt.tight_layout()\n",
        "plt.show()"
      ],
      "execution_count": 0,
      "outputs": []
    },
    {
      "cell_type": "markdown",
      "metadata": {
        "id": "3Jk7ax3XLr8o",
        "colab_type": "text"
      },
      "source": [
        "### Predicting"
      ]
    },
    {
      "cell_type": "code",
      "metadata": {
        "id": "LUt04aEvLWtv",
        "colab_type": "code",
        "colab": {}
      },
      "source": [
        "inference_model_stateful = make_model('inference_model_stateful', stateful=True)\n",
        "inference_model_stateless = make_model('inference_model_stateless', stateful=False)\n",
        "inference_model_stateful.set_weights(training_model.get_weights())\n",
        "inference_model_stateless.set_weights(training_model.get_weights())"
      ],
      "execution_count": 0,
      "outputs": []
    },
    {
      "cell_type": "code",
      "metadata": {
        "id": "J1CQLD-4LyAC",
        "colab_type": "code",
        "colab": {}
      },
      "source": [
        "start = 12269 #@param {type:\"slider\", min:0, max:107362, step:1}\n",
        "length = 1000 #@param {type:\"slider\", min:0, max:5000, step:1}\n",
        "end = start + length\n",
        "\n",
        "prediction_stateful = np.concatenate(\n",
        "    [inference_model_stateful.predict(np.array([i])) for i in x_predict[start:end]])\n",
        "prediction_stateless = np.concatenate(\n",
        "    [inference_model_stateless.predict(np.array([i])) for i in x_predict[start:end]])"
      ],
      "execution_count": 0,
      "outputs": []
    },
    {
      "cell_type": "markdown",
      "metadata": {
        "id": "HmULNOHrMKBJ",
        "colab_type": "text"
      },
      "source": [
        "### Visualising prediction"
      ]
    },
    {
      "cell_type": "code",
      "metadata": {
        "id": "5SYaPoDdMNVC",
        "colab_type": "code",
        "outputId": "7ae638ce-a8a7-4db4-a10c-e07772ff8b55",
        "colab": {
          "base_uri": "https://localhost:8080/",
          "height": 440
        }
      },
      "source": [
        "fig = plt.figure(figsize=(12, 6))\n",
        "ax0 = plt.subplot2grid((10, 1), (0, 0), 3, 1)\n",
        "ax1 = plt.subplot2grid((10, 1), (3, 0), 7, 1)\n",
        "\n",
        "ax0.plot(accel_data[start:end, 0], 'r')\n",
        "ax0.plot(accel_data[start:end, 1], 'g')\n",
        "ax0.plot(accel_data[start:end, 2], 'b')\n",
        "ax1.plot(accel_data[start:end, 3], 'silver')\n",
        "ax1.plot(prediction_stateful[:, 1], 'b')\n",
        "ax1.plot(prediction_stateless[:, 1], 'r')\n",
        "\n",
        "ax0.set_ylabel(r'acceleration $ms^{-2}$')\n",
        "ax1.set_xlabel('sample')\n",
        "ax1.set_ylabel('label')\n",
        "\n",
        "ax0.legend(['x acceleration','y acceleration','z acceleration'], loc=1)\n",
        "ax1.legend(['true', 'prediction_stateful', 'prediction_stateless'], loc=1)\n",
        "\n",
        "plt.tight_layout()\n",
        "plt.show()"
      ],
      "execution_count": 14,
      "outputs": [
        {
          "output_type": "display_data",
          "data": {
            "image/png": "[encoded data removed]",
            "text/plain": [
              "<Figure size 864x432 with 2 Axes>"
            ]
          },
          "metadata": {
            "tags": []
          }
        }
      ]
    }
  ]
}